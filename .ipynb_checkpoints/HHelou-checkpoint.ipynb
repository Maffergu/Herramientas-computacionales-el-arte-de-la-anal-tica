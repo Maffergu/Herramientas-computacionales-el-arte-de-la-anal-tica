{
 "cells": [
  {
   "cell_type": "markdown",
   "id": "569da295",
   "metadata": {},
   "source": [
    "## María Fernanda Argueta A00830194"
   ]
  },
  {
   "cell_type": "markdown",
   "id": "7d5f6530",
   "metadata": {},
   "source": [
    "1.Escribir una función de Python que encuentre los números primos en los primeros N números naturales.\n",
    "N es el argumento de la función\n",
    "Llamar la función desde el código principal"
   ]
  },
  {
   "cell_type": "code",
   "execution_count": 1,
   "id": "ae3535aa",
   "metadata": {},
   "outputs": [
    {
     "name": "stdout",
     "output_type": "stream",
     "text": [
      "[2, 3, 5, 7, 11, 13, 17, 19]\n"
     ]
    }
   ],
   "source": [
    "import math\n",
    "def primo(n):\n",
    "    count = []\n",
    "    \n",
    "    prim = False\n",
    "    for i in range(2, n):\n",
    "        prim = True\n",
    "        raiz = int(math.sqrt(i))+1\n",
    "        \n",
    "        for j in range(2, raiz):\n",
    "            if (i % j) == 0:\n",
    "                prim = False        \n",
    "                break\n",
    "            \n",
    "                \n",
    "        \n",
    "        if(prim == True):\n",
    "            count.append(i)\n",
    "            \n",
    "        \n",
    "        \n",
    "    return count\n",
    "    \n",
    "\n",
    "calc = primo(20)\n",
    "print(calc)"
   ]
  },
  {
   "cell_type": "markdown",
   "id": "97b0e96e",
   "metadata": {},
   "source": [
    "2.\n",
    "Escribir una función de Pyton que encuentre el producto cruz en vectores de 3 componentes.\n",
    "La función recibe dos listas (vectores)\n",
    "La función regresa un tercer vector (lista) con el resultado\n",
    "Llamar a la función desde el código principal"
   ]
  },
  {
   "cell_type": "markdown",
   "id": "aaba5c0a",
   "metadata": {},
   "source": [
    "3.Re-escribir el problema 2, pero ahora los vectores son leídos desde un archivo de texto."
   ]
  },
  {
   "cell_type": "code",
   "execution_count": 43,
   "id": "a52afa82",
   "metadata": {},
   "outputs": [
    {
     "name": "stdout",
     "output_type": "stream",
     "text": [
      "a =  [1.2, 3.7, -0.25]\n",
      "b =  [1.2, 3.7, -0.25]\n",
      "a x b =  [25.200000000000003, -8.290000000000001, -1.7319999999999998]\n"
     ]
    }
   ],
   "source": [
    "def cruz(a,b):\n",
    "    c = []\n",
    "    c.append(a[1]*b[2]-a[2]*b[1])\n",
    "    c.append(a[2]*b[0]-a[0]*b[2])\n",
    "    c.append(a[0]*b[1]-a[1]*b[0])\n",
    "    \n",
    "    return c\n",
    "x = [1.2, 3.7, -0.25]\n",
    "y = [-0.44, -2.8, 7]\n",
    "cross = cruz(x,y)\n",
    "print(\"a = \", x)\n",
    "print(\"b = \", x)\n",
    "print(\"a x b = \", cross)"
   ]
  },
  {
   "cell_type": "code",
   "execution_count": 49,
   "id": "34b7f1f4",
   "metadata": {},
   "outputs": [
    {
     "ename": "FileNotFoundError",
     "evalue": "[Errno 2] No such file or directory: 'vectors.txt'",
     "output_type": "error",
     "traceback": [
      "\u001b[0;31m---------------------------------------------------------------------------\u001b[0m",
      "\u001b[0;31mFileNotFoundError\u001b[0m                         Traceback (most recent call last)",
      "Input \u001b[0;32mIn [49]\u001b[0m, in \u001b[0;36m<cell line: 3>\u001b[0;34m()\u001b[0m\n\u001b[1;32m      1\u001b[0m \u001b[38;5;28;01mimport\u001b[39;00m \u001b[38;5;21;01mcsv\u001b[39;00m\n\u001b[1;32m      2\u001b[0m data \u001b[38;5;241m=\u001b[39m []\n\u001b[0;32m----> 3\u001b[0m \u001b[38;5;28;01mwith\u001b[39;00m \u001b[38;5;28;43mopen\u001b[39;49m\u001b[43m(\u001b[49m\u001b[38;5;124;43m'\u001b[39;49m\u001b[38;5;124;43mvectors.txt\u001b[39;49m\u001b[38;5;124;43m'\u001b[39;49m\u001b[43m,\u001b[49m\u001b[43m \u001b[49m\u001b[38;5;124;43m'\u001b[39;49m\u001b[38;5;124;43mr\u001b[39;49m\u001b[38;5;124;43m'\u001b[39;49m\u001b[43m)\u001b[49m \u001b[38;5;28;01mas\u001b[39;00m fd:\n\u001b[1;32m      4\u001b[0m     reader \u001b[38;5;241m=\u001b[39m csv\u001b[38;5;241m.\u001b[39mreader(fd)\n\u001b[1;32m      5\u001b[0m     \u001b[38;5;28;01mfor\u001b[39;00m row \u001b[38;5;129;01min\u001b[39;00m reader:\n",
      "\u001b[0;31mFileNotFoundError\u001b[0m: [Errno 2] No such file or directory: 'vectors.txt'"
     ]
    }
   ],
   "source": [
    "import csv\n",
    "data = []\n",
    "with open('vectors.txt', 'r') as fd:\n",
    "    reader = csv.reader(fd)\n",
    "    for row in reader:\n",
    "        data.append(row)\n",
    "\n",
    "def cross(a,b):\n",
    "    c = []\n",
    "    c.append(a[1]*b[2]-a[2]*b[1])\n",
    "    c.append(a[2]*b[0]-a[0]*b[2])\n",
    "    c.append(a[0]*b[1]-a[1]*b[0])\n",
    "    return c\n",
    "    \n",
    "    x = [1.2, 3.7, -0.25]\n",
    "    y = [-8.44, -2.8, 7]\n",
    "    cr = cross(x,y)\n",
    "    print(\"a = \", x)\n",
    "    print(\"b = \", y)\n",
    "    print(cr)"
   ]
  }
 ],
 "metadata": {
  "kernelspec": {
   "display_name": "Python 3 (ipykernel)",
   "language": "python",
   "name": "python3"
  },
  "language_info": {
   "codemirror_mode": {
    "name": "ipython",
    "version": 3
   },
   "file_extension": ".py",
   "mimetype": "text/x-python",
   "name": "python",
   "nbconvert_exporter": "python",
   "pygments_lexer": "ipython3",
   "version": "3.9.12"
  }
 },
 "nbformat": 4,
 "nbformat_minor": 5
}
