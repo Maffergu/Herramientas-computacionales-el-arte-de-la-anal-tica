{
 "cells": [
  {
   "cell_type": "markdown",
   "id": "5cfccc1b",
   "metadata": {},
   "source": [
    "## Actividad Evaluable: Obtención de estadísticas descriptivas\n",
    "### María Fernanda Argueta Wolke A00830194"
   ]
  },
  {
   "cell_type": "markdown",
   "id": "2b1fe307",
   "metadata": {},
   "source": [
    "Cargar las librerías pandas, seaborn y matplotlib."
   ]
  },
  {
   "cell_type": "code",
   "execution_count": 59,
   "id": "658f02a2",
   "metadata": {},
   "outputs": [],
   "source": [
    "import pandas as pd\n",
    "import matplotlib.pyplot as plt\n",
    "import seaborn as sb\n",
    "import numpy"
   ]
  },
  {
   "cell_type": "markdown",
   "id": "981440b1",
   "metadata": {},
   "source": [
    "Verifica la cantidad de datos que tienes, las variables que contiene cada vector de datos e identifica el tipo de variables."
   ]
  },
  {
   "cell_type": "code",
   "execution_count": 58,
   "id": "66014f1b",
   "metadata": {
    "scrolled": false
   },
   "outputs": [
    {
     "name": "stdout",
     "output_type": "stream",
     "text": [
      "Se tienen en total  967668  datos\n",
      "\n",
      "----------Tipos de variables dentro del dataframe-----------\n",
      "user_name           object\n",
      "user_location       object\n",
      "user_description    object\n",
      "user_created        object\n",
      "user_followers       int64\n",
      "user_friends         int64\n",
      "user_favourites      int64\n",
      "user_verified         bool\n",
      "date                object\n",
      "text                object\n",
      "hashtags            object\n",
      "source              object\n",
      "is_retweet            bool\n",
      "dtype: object\n",
      "\n",
      "--------------Descripción de los datos numéricos------------\n",
      "       user_followers   user_friends  user_favourites\n",
      "count    7.443600e+04   74436.000000     7.443600e+04\n",
      "mean     1.059513e+05    2154.721170     1.529747e+04\n",
      "std      8.222900e+05    9365.587474     4.668971e+04\n",
      "min      0.000000e+00       0.000000     0.000000e+00\n",
      "25%      1.660000e+02     153.000000     2.200000e+02\n",
      "50%      9.600000e+02     552.000000     1.927000e+03\n",
      "75%      5.148000e+03    1780.250000     1.014800e+04\n",
      "max      1.389284e+07  497363.000000     2.047197e+06\n"
     ]
    }
   ],
   "source": [
    "#Leyendo archivo csv\n",
    "df = pd.read_csv(\"/Users/mafer/Documents/Tec/ArteLitica/Herramientas-computacionales-el-arte-de-la-anal-tica/Dia2/covid19_tweets.csv\")\n",
    "sz = df.size\n",
    "print(\"Se tienen en total \", sz, \" datos\")\n",
    "desc = df.describe()\n",
    "print(\"\")\n",
    "print(\"----------Tipos de variables dentro del dataframe-----------\")\n",
    "tipos = df.dtypes\n",
    "print(tipos)\n",
    "print(\"\")\n",
    "print(\"--------------Descripción de los datos numéricos------------\")\n",
    "print(desc)"
   ]
  },
  {
   "cell_type": "markdown",
   "id": "60e0f134",
   "metadata": {},
   "source": [
    "Analiza las variables para saber qué representa cada una y en qué rangos se encuentran. Si la descripción del problema no te lo indica, utiliza el máximo y el mínimo para encontrarlo."
   ]
  },
  {
   "cell_type": "code",
   "execution_count": 56,
   "id": "df49d9a5",
   "metadata": {},
   "outputs": [
    {
     "name": "stdout",
     "output_type": "stream",
     "text": [
      "El rango de datos para la columna de user_followers es: ( 0 - 13892841 )\n",
      "El rango de datos para la columna de user_friends es: ( 0 - 497363 )\n",
      "El rango de datos para la columna de user_friends es: ( 0 - 2047197 )\n"
     ]
    }
   ],
   "source": [
    "var1 = df.loc[:,'user_followers']\n",
    "max1 = var1.max()\n",
    "min1 = var1.min()\n",
    "print(\"El rango de datos para la columna de user_followers es: (\", min1, \"-\", max1, \")\")\n",
    "\n",
    "var2 = df.loc[:,'user_friends']\n",
    "max2 = var2.max()\n",
    "min2 = var2.min()\n",
    "print(\"El rango de datos para la columna de user_friends es: (\", min2, \"-\", max2, \")\")\n",
    "\n",
    "var3 = df.loc[:,'user_favourites']\n",
    "max3 = var3.max()\n",
    "min3 = var3.min()\n",
    "print(\"El rango de datos para la columna de user_friends es: (\", min3, \"-\", max3, \")\")"
   ]
  },
  {
   "cell_type": "markdown",
   "id": "be7166b7",
   "metadata": {},
   "source": [
    "Basándose en la media, mediana y desviación estándar de cada variable, ¿Qué conclusiones puedes entregar de los datos?\n",
    "\n",
    "Para poder tener una mejor visualización de las medidas de tendencia de las tres variables en cuestión, se realizó un gráfico de caja y bigotes para cada una."
   ]
  },
  {
   "cell_type": "code",
   "execution_count": 55,
   "id": "606c090d",
   "metadata": {},
   "outputs": [
    {
     "name": "stdout",
     "output_type": "stream",
     "text": [
      "Media:  105951.31291310657\n",
      "Mediana:  960.0\n",
      "Desviación estándar:  822289.9854933644\n"
     ]
    },
    {
     "data": {
      "image/png": "[encoded data removed]",
      "text/plain": [
       "<Figure size 432x288 with 1 Axes>"
      ]
     },
     "metadata": {
      "needs_background": "light"
     },
     "output_type": "display_data"
    }
   ],
   "source": [
    "print(\"Media: \", df[\"user_followers\"].mean())\n",
    "print(\"Mediana: \", df[\"user_followers\"].median())\n",
    "print(\"Desviación estándar: \", df[\"user_followers\"].std())\n",
    "boxplot = df.boxplot(column=['user_followers'])\n",
    "boxplot.plot()\n",
    "\n",
    "plt.show()"
   ]
  },
  {
   "cell_type": "code",
   "execution_count": 54,
   "id": "c82dff6e",
   "metadata": {},
   "outputs": [
    {
     "name": "stdout",
     "output_type": "stream",
     "text": [
      "Media:  2154.7211698640444\n",
      "Mediana:  552.0\n",
      "Desviación estándar:  9365.587473744987\n"
     ]
    },
    {
     "data": {
      "image/png": "[encoded data removed]",
      "text/plain": [
       "<Figure size 432x288 with 1 Axes>"
      ]
     },
     "metadata": {
      "needs_background": "light"
     },
     "output_type": "display_data"
    }
   ],
   "source": [
    "print(\"Media: \", df[\"user_friends\"].mean())\n",
    "print(\"Mediana: \", df[\"user_friends\"].median())\n",
    "print(\"Desviación estándar: \", df[\"user_friends\"].std())\n",
    "boxplot = df.boxplot(column=['user_friends'])\n",
    "boxplot.plot()\n",
    "\n",
    "plt.show()"
   ]
  },
  {
   "cell_type": "code",
   "execution_count": 53,
   "id": "dca21f75",
   "metadata": {},
   "outputs": [
    {
     "name": "stdout",
     "output_type": "stream",
     "text": [
      "Media:  15297.472029663066\n",
      "Mediana:  1927.0\n",
      "Desviación estándar:  46689.71429086786\n"
     ]
    },
    {
     "data": {
      "image/png": "[encoded data removed]",
      "text/plain": [
       "<Figure size 432x288 with 1 Axes>"
      ]
     },
     "metadata": {
      "needs_background": "light"
     },
     "output_type": "display_data"
    }
   ],
   "source": [
    "print(\"Media: \", df[\"user_favourites\"].mean())\n",
    "print(\"Mediana: \", df[\"user_favourites\"].median())\n",
    "print(\"Desviación estándar: \", df[\"user_favourites\"].std())\n",
    "boxplot = df.boxplot(column=['user_favourites'])\n",
    "boxplot.plot()\n",
    "\n",
    "plt.show()"
   ]
  },
  {
   "cell_type": "markdown",
   "id": "dd21c39a",
   "metadata": {},
   "source": [
    "### Análisis\n",
    "En base a lo que se puede observar a los datos desplegados anteriormente podemos saber que estamos trabajando con una base de datos muy grande, pues contiene 967668  datos.\n",
    "\n",
    "Además, debido al despliegue de tipo de datos podemos saber con qué columnas se puede realizar un análisis de estadística descriptiva tal como la media, mediana y moda. En este caso se tienen 3 columnas con las que se puede trabajar las cuales son: user_followers, user_friends y user_favourites.\n",
    "\n",
    "Por lo que se despliega la descripción estadística de dichas columnas.\n",
    "\n",
    "Luego para realizar un análisis más profundo del comportamiento de cada una de estas 3 variables se mostró su media, mediana, desviación estándar. Para poder tener una representación visual de las medidas de tendencia se realizó un gráfico de caja y bigotes por cada una. \n",
    "\n",
    "En los primeros dos casos se puede observar que existe una diferencia bastante grande entre la mediana y la media. Por ello es que la distribución para ambos casos queda muy alargada y dispersa. Esto también está influido por la desviación estándar que es un valor muy grande y por ello los datos se encuentran tan dispersos entre si.\n",
    "\n",
    "Para el caso del último gráfico se observa que la media y la mediana no se encuentran tan alejadas como en los casos anteriores. Por eso es que el gráfico se observa más centrado. Además, la desviación estándar un poco menos que la mitad de la de las otras columnas, y por ello los datos en este caso se encuentran más compactos. "
   ]
  }
 ],
 "metadata": {
  "kernelspec": {
   "display_name": "Python 3 (ipykernel)",
   "language": "python",
   "name": "python3"
  },
  "language_info": {
   "codemirror_mode": {
    "name": "ipython",
    "version": 3
   },
   "file_extension": ".py",
   "mimetype": "text/x-python",
   "name": "python",
   "nbconvert_exporter": "python",
   "pygments_lexer": "ipython3",
   "version": "3.9.12"
  }
 },
 "nbformat": 4,
 "nbformat_minor": 5
}
