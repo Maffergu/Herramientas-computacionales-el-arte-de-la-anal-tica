{
 "cells": [
  {
   "cell_type": "markdown",
   "id": "4e6d8748",
   "metadata": {},
   "source": [
    "## Actividad Evaluable: Obtención de estadísticas descriptivas\n",
    "### María Fernanda Argueta Wolke A00830194"
   ]
  },
  {
   "cell_type": "markdown",
   "id": "a4adea18",
   "metadata": {},
   "source": [
    "Cargar las librerías pandas, seaborn y matplotlib."
   ]
  },
  {
   "cell_type": "code",
   "execution_count": 3,
   "id": "25012347",
   "metadata": {},
   "outputs": [],
   "source": [
    "import pandas as pd\n",
    "import matplotlib as mpl\n",
    "import seaborn as sb"
   ]
  },
  {
   "cell_type": "markdown",
   "id": "c9fb5d17",
   "metadata": {},
   "source": [
    "Con los datos cargados, utiliza la función boxplot para obtener un diagrama de cajas y bigotes (boxplot, whisker plot). En este diagrama podrás observar para una variable la diferencia entre el mayor y el menor, cómo están distribuidos los datos, dónde se encuentra la mediana y si existen outliers, datos que se salen de los valores esperados a partir de los demás."
   ]
  },
  {
   "cell_type": "code",
   "execution_count": 4,
   "id": "436ff150",
   "metadata": {},
   "outputs": [],
   "source": [
    "#Leyendo archivo csv\n",
    "df = pd.read_csv(\"/Users/mafer/Documents/Tec/ArteLitica/Actividades/ActEvaluable2/covid19_tweets.csv\")\n"
   ]
  }
 ],
 "metadata": {
  "kernelspec": {
   "display_name": "Python 3 (ipykernel)",
   "language": "python",
   "name": "python3"
  },
  "language_info": {
   "codemirror_mode": {
    "name": "ipython",
    "version": 3
   },
   "file_extension": ".py",
   "mimetype": "text/x-python",
   "name": "python",
   "nbconvert_exporter": "python",
   "pygments_lexer": "ipython3",
   "version": "3.9.12"
  }
 },
 "nbformat": 4,
 "nbformat_minor": 5
}
