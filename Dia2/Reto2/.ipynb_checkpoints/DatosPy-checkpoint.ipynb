{
 "cells": [
  {
   "cell_type": "code",
   "execution_count": null,
   "id": "b6dd293b",
   "metadata": {},
   "outputs": [],
   "source": [
    "import csv\n",
    "import numpy as np\n",
    "\n",
    "with open('avocado.csv') as file:\n",
    "    content = file.readlines()\n",
    "matrix=np.asmatrix(content)\n",
    "header = content[:1]\n",
    "rows = content[1:]\n",
    "print(header)\n",
    "#print(rows)\n",
    "arra=np.array(header)\n",
    "for i in range(len(rows)):\n",
    "    row=rows[i]\n",
    "    nrow=row.split(\", \")\n",
    "    print(nrow)"
   ]
  }
 ],
 "metadata": {
  "kernelspec": {
   "display_name": "Python 3 (ipykernel)",
   "language": "python",
   "name": "python3"
  },
  "language_info": {
   "codemirror_mode": {
    "name": "ipython",
    "version": 3
   },
   "file_extension": ".py",
   "mimetype": "text/x-python",
   "name": "python",
   "nbconvert_exporter": "python",
   "pygments_lexer": "ipython3",
   "version": "3.9.12"
  }
 },
 "nbformat": 4,
 "nbformat_minor": 5
}
