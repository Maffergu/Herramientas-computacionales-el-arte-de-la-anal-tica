{
 "cells": [
  {
   "cell_type": "markdown",
   "id": "c93e0dac",
   "metadata": {},
   "source": [
    "## Actividad Evaluable: Obtención de estadísticas descriptivas\n",
    "### María Fernanda Argueta Wolke A00830194"
   ]
  },
  {
   "cell_type": "markdown",
   "id": "54031526",
   "metadata": {},
   "source": [
    "Cargar las librerías pandas, seaborn y matplotlib."
   ]
  },
  {
   "cell_type": "code",
   "execution_count": null,
   "id": "87d75573",
   "metadata": {},
   "outputs": [],
   "source": [
    "import pandas as pd\n",
    "import matplotlib as mpl\n",
    "import seaborn as sb"
   ]
  },
  {
   "cell_type": "markdown",
   "id": "ad69608a",
   "metadata": {},
   "source": []
  }
 ],
 "metadata": {
  "kernelspec": {
   "display_name": "Python 3 (ipykernel)",
   "language": "python",
   "name": "python3"
  },
  "language_info": {
   "codemirror_mode": {
    "name": "ipython",
    "version": 3
   },
   "file_extension": ".py",
   "mimetype": "text/x-python",
   "name": "python",
   "nbconvert_exporter": "python",
   "pygments_lexer": "ipython3",
   "version": "3.9.12"
  }
 },
 "nbformat": 4,
 "nbformat_minor": 5
}
