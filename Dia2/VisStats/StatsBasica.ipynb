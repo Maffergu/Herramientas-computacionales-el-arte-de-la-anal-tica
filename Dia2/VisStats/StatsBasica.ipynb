{
 "cells": [
  {
   "cell_type": "markdown",
   "id": "fe2ca7e7",
   "metadata": {},
   "source": [
    "## Visualizaciones de estadística básica\n"
   ]
  }
 ],
 "metadata": {
  "kernelspec": {
   "display_name": "Python 3 (ipykernel)",
   "language": "python",
   "name": "python3"
  },
  "language_info": {
   "codemirror_mode": {
    "name": "ipython",
    "version": 3
   },
   "file_extension": ".py",
   "mimetype": "text/x-python",
   "name": "python",
   "nbconvert_exporter": "python",
   "pygments_lexer": "ipython3",
   "version": "3.9.12"
  }
 },
 "nbformat": 4,
 "nbformat_minor": 5
}
