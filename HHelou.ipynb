{
 "cells": [
  {
   "cell_type": "markdown",
   "id": "77be36f2",
   "metadata": {},
   "source": [
    "## María Fernanda Argueta A00830194"
   ]
  },
  {
   "cell_type": "markdown",
   "id": "ca4a0777",
   "metadata": {},
   "source": [
    "1.Escribir una función de Python que encuentre los números primos en los primeros N números naturales.\n",
    "N es el argumento de la función\n",
    "Llamar la función desde el código principal"
   ]
  },
  {
   "cell_type": "code",
   "execution_count": 1,
   "id": "e5a73566",
   "metadata": {},
   "outputs": [
    {
     "name": "stdout",
     "output_type": "stream",
     "text": [
      "[2, 3, 5, 7, 11, 13, 17, 19]\n"
     ]
    }
   ],
   "source": [
    "import math\n",
    "def primo(n):\n",
    "    count = []\n",
    "    \n",
    "    prim = False\n",
    "    for i in range(2, n):\n",
    "        prim = True\n",
    "        raiz = int(math.sqrt(i))+1\n",
    "        \n",
    "        for j in range(2, raiz):\n",
    "            if (i % j) == 0:\n",
    "                prim = False        \n",
    "                break\n",
    "            \n",
    "                \n",
    "        \n",
    "        if(prim == True):\n",
    "            count.append(i)\n",
    "            \n",
    "        \n",
    "        \n",
    "    return count\n",
    "    \n",
    "\n",
    "calc = primo(20)\n",
    "print(calc)"
   ]
  },
  {
   "cell_type": "markdown",
   "id": "46dfc312",
   "metadata": {},
   "source": [
    "2.\n",
    "Escribir una función de Pyton que encuentre el producto cruz en vectores de 3 componentes.\n",
    "La función recibe dos listas (vectores)\n",
    "La función regresa un tercer vector (lista) con el resultado\n",
    "Llamar a la función desde el código principal"
   ]
  },
  {
   "cell_type": "code",
   "execution_count": 94,
   "id": "3e7cd8fb",
   "metadata": {},
   "outputs": [
    {
     "name": "stdout",
     "output_type": "stream",
     "text": [
      "a =  [1.2, 3.7, -0.25]\n",
      "b =  [-0.44, -2.8, 7]\n",
      "a x b =  [25.200000000000003, -8.290000000000001, -1.7319999999999998]\n"
     ]
    }
   ],
   "source": [
    "def cruz(a,b):\n",
    "    c = []\n",
    "    c.append(a[1]*b[2]-a[2]*b[1])\n",
    "    c.append(a[2]*b[0]-a[0]*b[2])\n",
    "    c.append(a[0]*b[1]-a[1]*b[0])\n",
    "    \n",
    "    return c\n",
    "x = [1.2, 3.7, -0.25]\n",
    "y = [-0.44, -2.8, 7]\n",
    "cross = cruz(x,y)\n",
    "print(\"a = \", x)\n",
    "print(\"b = \", y)\n",
    "print(\"a x b = \", cross)"
   ]
  },
  {
   "cell_type": "markdown",
   "id": "9969169c",
   "metadata": {},
   "source": [
    "3.Re-escribir el problema 2, pero ahora los vectores son leídos desde un archivo de texto."
   ]
  },
  {
   "cell_type": "code",
   "execution_count": 97,
   "id": "7a49a1af",
   "metadata": {},
   "outputs": [
    {
     "name": "stdout",
     "output_type": "stream",
     "text": [
      "a =  ['13.45', ' 20.67', ' -15.0821']\n",
      "b =  ['-5.012', ' -40.333', ' 12.874']\n",
      "a x b =  [-342.20075929999996, -97.56381480000002, -438.88081]\n"
     ]
    }
   ],
   "source": [
    "import csv\n",
    "data = []\n",
    "my_file = open('/Users/mafer/Documents/Tec/ArteLitica/Act1/vectors.txt', 'r')\n",
    "with open('/Users/mafer/Documents/Tec/ArteLitica/Act1/vectors.txt', 'r') as fd:\n",
    "    reader = csv.reader(fd)\n",
    "    for row in reader:\n",
    "        data.append(row)\n",
    "        \n",
    "\n",
    "\n",
    "        \n",
    "def cruz(a,b):\n",
    "    c = []\n",
    "    c.append(float(a[1])*float(b[2])-float(a[2])*float(b[1]))\n",
    "    c.append(float(a[2])*float(b[0])-float(a[0])*float(b[2]))\n",
    "    c.append(float(a[0])*float(b[1])-float(a[1])*float(b[0]))\n",
    "    \n",
    "    return c\n",
    "x = [1.2, 3.7, -0.25]\n",
    "y = [-0.44, -2.8, 7]\n",
    "cross = cruz(data[0],data[1])\n",
    "print(\"a = \", data[0])\n",
    "print(\"b = \", data[1])\n",
    "print(\"a x b = \", cross)"
   ]
  }
 ],
 "metadata": {
  "kernelspec": {
   "display_name": "Python 3 (ipykernel)",
   "language": "python",
   "name": "python3"
  },
  "language_info": {
   "codemirror_mode": {
    "name": "ipython",
    "version": 3
   },
   "file_extension": ".py",
   "mimetype": "text/x-python",
   "name": "python",
   "nbconvert_exporter": "python",
   "pygments_lexer": "ipython3",
   "version": "3.9.12"
  }
 },
 "nbformat": 4,
 "nbformat_minor": 5
}
