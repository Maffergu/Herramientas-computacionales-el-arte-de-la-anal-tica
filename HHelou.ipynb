{
 "cells": [
  {
   "cell_type": "markdown",
   "id": "b4530051",
   "metadata": {},
   "source": [
    "## María Fernanda Argueta A00830194"
   ]
  },
  {
   "cell_type": "markdown",
   "id": "a97353e5",
   "metadata": {},
   "source": [
    "1.Escribir una función de Python que encuentre los números primos en los primeros N números naturales.\n",
    "N es el argumento de la función\n",
    "Llamar la función desde el código principal"
   ]
  },
  {
   "cell_type": "code",
   "execution_count": 1,
   "id": "68ff76c7",
   "metadata": {},
   "outputs": [
    {
     "name": "stdout",
     "output_type": "stream",
     "text": [
      "[2, 3, 5, 7, 11, 13, 17, 19]\n"
     ]
    }
   ],
   "source": [
    "import math\n",
    "def primo(n):\n",
    "    count = []\n",
    "    \n",
    "    prim = False\n",
    "    for i in range(2, n):\n",
    "        prim = True\n",
    "        raiz = int(math.sqrt(i))+1\n",
    "        \n",
    "        for j in range(2, raiz):\n",
    "            if (i % j) == 0:\n",
    "                prim = False        \n",
    "                break\n",
    "            \n",
    "                \n",
    "        \n",
    "        if(prim == True):\n",
    "            count.append(i)\n",
    "            \n",
    "        \n",
    "        \n",
    "    return count\n",
    "    \n",
    "\n",
    "calc = primo(20)\n",
    "print(calc)"
   ]
  },
  {
   "cell_type": "markdown",
   "id": "6e738630",
   "metadata": {},
   "source": [
    "2.\n",
    "Escribir una función de Pyton que encuentre el producto cruz en vectores de 3 componentes.\n",
    "La función recibe dos listas (vectores)\n",
    "La función regresa un tercer vector (lista) con el resultado\n",
    "Llamar a la función desde el código principal"
   ]
  },
  {
   "cell_type": "code",
   "execution_count": 21,
   "id": "2abb3cbf",
   "metadata": {},
   "outputs": [],
   "source": [
    "def cross(a,b):\n",
    "    c = []\n",
    "    c.append(a[1]*b[2]-a[2]*b[1])\n",
    "    c.append(a[2]*b[0]-a[0]*b[2])\n",
    "    c.append(a[0]*b[1]-a[1]*b[0])\n",
    "    return c\n",
    "    \n",
    "    x = [1.2, 3.7, -0.25]\n",
    "    y = [-8.44, -2.8, 7]\n",
    "    cr = cross(x,y)\n",
    "    print(\"a = \", x)\n",
    "    print(\"b = \", y)\n",
    "    print(cr)"
   ]
  },
  {
   "cell_type": "markdown",
   "id": "3d56cd52",
   "metadata": {},
   "source": [
    "3.Re-escribir el problema 2, pero ahora los vectores son leídos desde un archivo de texto."
   ]
  },
  {
   "cell_type": "code",
   "execution_count": null,
   "id": "f3664b04",
   "metadata": {},
   "outputs": [],
   "source": [
    "def cross(a,b):\n",
    "    c = []\n",
    "    c.append(a[1]*b[2]-a[2]*b[1])\n",
    "    c.append(a[2]*b[0]-a[0]*b[2])\n",
    "    c.append(a[0]*b[1]-a[1]*b[0])\n",
    "    return c\n",
    "    \n",
    "    x = [1.2, 3.7, -0.25]\n",
    "    y = [-8.44, -2.8, 7]\n",
    "    cr = cross(x,y)\n",
    "    print(\"a = \", x)\n",
    "    print(\"b = \", y)\n",
    "    print(cr)"
   ]
  }
 ],
 "metadata": {
  "kernelspec": {
   "display_name": "Python 3 (ipykernel)",
   "language": "python",
   "name": "python3"
  },
  "language_info": {
   "codemirror_mode": {
    "name": "ipython",
    "version": 3
   },
   "file_extension": ".py",
   "mimetype": "text/x-python",
   "name": "python",
   "nbconvert_exporter": "python",
   "pygments_lexer": "ipython3",
   "version": "3.9.12"
  }
 },
 "nbformat": 4,
 "nbformat_minor": 5
}
