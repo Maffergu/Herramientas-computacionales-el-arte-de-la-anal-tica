{
 "cells": [
  {
   "cell_type": "markdown",
   "id": "d7fb0bd6",
   "metadata": {},
   "source": [
    "## Carga de datos con Pandas\n",
    "### María Fernanda Argueta A00830194"
   ]
  },
  {
   "cell_type": "markdown",
   "id": "89fdb483",
   "metadata": {},
   "source": [
    "**1. Importa pandas.**"
   ]
  },
  {
   "cell_type": "code",
   "execution_count": 79,
   "id": "468203bd",
   "metadata": {},
   "outputs": [],
   "source": [
    "#Importa pandas.\n",
    "\n",
    "import pandas as pd"
   ]
  },
  {
   "cell_type": "markdown",
   "id": "5ea9ef68",
   "metadata": {},
   "source": [
    "**2. Lee el archivo .csv usando la función read_csv.**"
   ]
  },
  {
   "cell_type": "code",
   "execution_count": 80,
   "id": "0dbf05be",
   "metadata": {},
   "outputs": [],
   "source": [
    "#Lee el archivo .csv usando la función read_csv.\n",
    "df = pd.read_csv(\"/Users/mafer/Documents/Tec/ArteLitica/Act1/Pandas/avocado.csv\")"
   ]
  },
  {
   "cell_type": "markdown",
   "id": "8effde1a",
   "metadata": {},
   "source": [
    "**3. Observa las primeras líneas usando la función head.**"
   ]
  },
  {
   "cell_type": "code",
   "execution_count": 81,
   "id": "e6e720e1",
   "metadata": {},
   "outputs": [
    {
     "name": "stdout",
     "output_type": "stream",
     "text": [
      "------------Utilizando función head-----------\n",
      "   Unnamed: 0        Date  AveragePrice  Total Volume     4046       4225  \\\n",
      "0           0  2015-12-27          1.33      64236.62  1036.74   54454.85   \n",
      "1           1  2015-12-20          1.35      54876.98   674.28   44638.81   \n",
      "2           2  2015-12-13          0.93     118220.22   794.70  109149.67   \n",
      "3           3  2015-12-06          1.08      78992.15  1132.00   71976.41   \n",
      "4           4  2015-11-29          1.28      51039.60   941.48   43838.39   \n",
      "\n",
      "     4770  Total Bags  Small Bags  Large Bags  XLarge Bags          type  \\\n",
      "0   48.16     8696.87     8603.62       93.25          0.0  conventional   \n",
      "1   58.33     9505.56     9408.07       97.49          0.0  conventional   \n",
      "2  130.50     8145.35     8042.21      103.14          0.0  conventional   \n",
      "3   72.58     5811.16     5677.40      133.76          0.0  conventional   \n",
      "4   75.78     6183.95     5986.26      197.69          0.0  conventional   \n",
      "\n",
      "   year  region  \n",
      "0  2015  Albany  \n",
      "1  2015  Albany  \n",
      "2  2015  Albany  \n",
      "3  2015  Albany  \n",
      "4  2015  Albany  \n"
     ]
    }
   ],
   "source": [
    "#Observa las primeras líneas usando la función head.\n",
    "print(\"------------Utilizando función head-----------\")\n",
    "print(df.head());"
   ]
  },
  {
   "cell_type": "markdown",
   "id": "145aa584",
   "metadata": {},
   "source": [
    "**4. Obtén diferentes combinaciones de columnas y datos.**"
   ]
  },
  {
   "cell_type": "code",
   "execution_count": 82,
   "id": "f89f25ab",
   "metadata": {},
   "outputs": [
    {
     "name": "stdout",
     "output_type": "stream",
     "text": [
      "-------------Combinación de la fila 1 y 9------------\n",
      "Unnamed: 0                 2\n",
      "Date              2015-12-13\n",
      "AveragePrice            0.93\n",
      "Total Volume       118220.22\n",
      "4046                   794.7\n",
      "4225               109149.67\n",
      "4770                   130.5\n",
      "Total Bags           8145.35\n",
      "Small Bags           8042.21\n",
      "Large Bags            103.14\n",
      "XLarge Bags              0.0\n",
      "type            conventional\n",
      "year                    2015\n",
      "region                Albany\n",
      "Unnamed: 0                10\n",
      "Date              2015-10-18\n",
      "AveragePrice            1.12\n",
      "Total Volume        84843.44\n",
      "4046                  924.86\n",
      "4225                75595.85\n",
      "4770                  117.07\n",
      "Total Bags           8205.66\n",
      "Small Bags           7877.86\n",
      "Large Bags             327.8\n",
      "XLarge Bags              0.0\n",
      "type            conventional\n",
      "year                    2015\n",
      "region                Albany\n",
      "dtype: object\n"
     ]
    }
   ],
   "source": [
    "#Obtén diferentes combinaciones de columnas y datos.\n",
    "#Uniendo los datos de la fila 1 y 9\n",
    "dos = df.loc[2,:];\n",
    "diez = df.loc[10,:];\n",
    "\n",
    "print(\"-------------Combinación de la fila 1 y 9------------\")\n",
    "concatenado = pd.concat([dos,diez]);\n",
    "print(concatenado)"
   ]
  },
  {
   "cell_type": "markdown",
   "id": "2f8ff87e",
   "metadata": {},
   "source": [
    "**5. Revisa los datos obtenidos por la función  describe.**"
   ]
  },
  {
   "cell_type": "code",
   "execution_count": 83,
   "id": "cb6ebda4",
   "metadata": {},
   "outputs": [
    {
     "name": "stdout",
     "output_type": "stream",
     "text": [
      "-------------Descripción combinación de la fila 1 y 9------------\n",
      "count       28\n",
      "unique      24\n",
      "top       2015\n",
      "freq         2\n",
      "dtype: int64\n"
     ]
    }
   ],
   "source": [
    "#Revisa los datos obtenidos por la función  describe.\n",
    "desc = concatenado.describe();\n",
    "print(\"-------------Descripción combinación de la fila 1 y 9------------\")\n",
    "print(desc)"
   ]
  },
  {
   "cell_type": "markdown",
   "id": "cee134e5",
   "metadata": {},
   "source": [
    "**6. Responde las preguntas de la sección anterior.**"
   ]
  },
  {
   "cell_type": "code",
   "execution_count": 84,
   "id": "1f8b82b6",
   "metadata": {},
   "outputs": [
    {
     "name": "stdout",
     "output_type": "stream",
     "text": [
      "------------------Preguntas Reto--------------------\n",
      "------------Descripción cantidad de objetos------------\n",
      "Unnamed: 0      18249\n",
      "Date            18249\n",
      "AveragePrice    18249\n",
      "Total Volume    18249\n",
      "4046            18249\n",
      "4225            18249\n",
      "4770            18249\n",
      "Total Bags      18249\n",
      "Small Bags      18249\n",
      "Large Bags      18249\n",
      "XLarge Bags     18249\n",
      "type            18249\n",
      "year            18249\n",
      "region          18249\n",
      "dtype: int64\n",
      "El valor de la variable 2 del objeto 15 es:  1.28\n",
      "El valor máximo de la variable 3 es:  62505646.52\n",
      "El valor mínimo de la variable 3 es:  84.56\n"
     ]
    }
   ],
   "source": [
    "print(\"------------------Preguntas Reto--------------------\")\n",
    "\n",
    "#¿Cuántos objetos hay?\n",
    "cuenta = df.count()\n",
    "print(\"------------Descripción cantidad de objetos------------\")\n",
    "print(cuenta)\n",
    "\n",
    "#¿Cuál es el valor de la variable 2 del objeto 15?\n",
    "valor = df.iloc[15,2]\n",
    "print(\"El valor de la variable 2 del objeto 15 es: \", valor)\n",
    "\n",
    "#¿Cuál es el mínimo y máximo de la variable 3?\n",
    "var3 = df.iloc[:,3]\n",
    "max = var3.max()\n",
    "print(\"El valor máximo de la variable 3 es: \", max)\n",
    "min = var3.min()\n",
    "print(\"El valor mínimo de la variable 3 es: \", min)"
   ]
  }
 ],
 "metadata": {
  "kernelspec": {
   "display_name": "Python 3 (ipykernel)",
   "language": "python",
   "name": "python3"
  },
  "language_info": {
   "codemirror_mode": {
    "name": "ipython",
    "version": 3
   },
   "file_extension": ".py",
   "mimetype": "text/x-python",
   "name": "python",
   "nbconvert_exporter": "python",
   "pygments_lexer": "ipython3",
   "version": "3.9.12"
  }
 },
 "nbformat": 4,
 "nbformat_minor": 5
}
